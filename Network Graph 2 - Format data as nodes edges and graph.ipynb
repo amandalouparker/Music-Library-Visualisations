{
 "cells": [
  {
   "cell_type": "markdown",
   "id": "1605f151",
   "metadata": {},
   "source": [
    "### Format data as nodes and edges and graph \n",
    "This script takes the music library data collected in step 1 and creates the network graph\n",
    "Edges between artists are created by matching the first (most prevelant) genre of an artists songs with the\n",
    "prevelance of that genre in other artists songs."
   ]
  },
  {
   "cell_type": "code",
   "execution_count": 1,
   "id": "294d8322",
   "metadata": {},
   "outputs": [],
   "source": [
    "# Import libraries\n",
    "import pandas as pd\n",
    "import numpy as np\n",
    "\n",
    "import seaborn as sns\n",
    "import matplotlib.pyplot as plt\n",
    "\n",
    "from pyvis.network import Network\n",
    "import networkx as nx\n",
    "from IPython.display import display, HTML\n",
    "\n",
    "import streamlit as st\n",
    "import streamlit.components.v1 as components\n"
   ]
  },
  {
   "cell_type": "code",
   "execution_count": 2,
   "id": "e6847220",
   "metadata": {},
   "outputs": [],
   "source": [
    "df0 = pd.read_csv('ArtistGenres.csv', encoding='utf-8')"
   ]
  },
  {
   "cell_type": "code",
   "execution_count": 3,
   "id": "041d76dc",
   "metadata": {},
   "outputs": [],
   "source": [
    "df0['Main'] = ''"
   ]
  },
  {
   "cell_type": "code",
   "execution_count": 4,
   "id": "95edf35b",
   "metadata": {},
   "outputs": [],
   "source": [
    "# get first genre from genre list\n",
    "pd.options.mode.chained_assignment = None  # default='warn'\n",
    "for i in range(0,len(df0)):\n",
    "    #print(i)\n",
    "    t1 = df0['Genre'][i]\n",
    "    t2 = t1.strip('[]')\n",
    "    tl = t2.split(',')[0]   \n",
    "    df0['Main'][i] = tl"
   ]
  },
  {
   "cell_type": "code",
   "execution_count": 5,
   "id": "c408712b",
   "metadata": {},
   "outputs": [],
   "source": [
    "net = Network('900px', '900px', notebook=False)\n",
    "\n",
    "length_nodes = len(df0)\n",
    "colour_list = sns.color_palette(\"viridis\", length_nodes).as_hex()\n",
    "\n",
    "for i in range(0, length_nodes):\n",
    "    val = (df0['SongCount'][i])*10 \n",
    "    net.add_node(str(i),\n",
    "              label = str(df0['Artist'][i]),\n",
    "              value = str(val),\n",
    "              title = str(df0['Artist'][i]),\n",
    "              group = str(df0['Main'][i]))"
   ]
  },
  {
   "cell_type": "code",
   "execution_count": 6,
   "id": "201cc6c4",
   "metadata": {},
   "outputs": [],
   "source": [
    "# Calculate node weights\n",
    "# 1 - from Node ID 2 - to Node ID, Weight\n",
    "\n",
    "# Directional?\n",
    "# for each artists' main genre, create an edge with other artists who share that genre at all\n",
    "# The list order of the second artists' genre determines weight, 100 minus 1 for each character before the matches genre in the list\n",
    "# *** replace this with list position (comma seperated) ***\n",
    "\n",
    "for i in range(0, length_nodes):\n",
    "    \n",
    "    a1 = df0['Artist'][i]\n",
    "    g1 = df0['Main'][i]\n",
    "    \n",
    "    idx = df0[df0['Genre'].str.contains(g1, case=False, regex=False)]\n",
    "    idx_d = idx[idx.Artist != a1]\n",
    "    if ~bool(idx.empty):\n",
    "        for x in range(0, len(idx_d)):\n",
    "            # calculate weight based on genre match position\n",
    "            \n",
    "            n = idx_d.index[x]\n",
    "            \n",
    "            s = idx_d['Genre'][n]\n",
    "            char_cnt = s.index(g1)\n",
    "            \n",
    "            w = 500 - char_cnt\n",
    "            if w <1:\n",
    "                w = 1\n",
    "            ws = round( ((w/500)*100) /10)\n",
    "\n",
    "            # create the edges\n",
    "            net.add_edge(str(i), str(n), weight = str(ws))\n",
    "            \n",
    "    else:\n",
    "        print('No genre matches found')"
   ]
  },
  {
   "cell_type": "code",
   "execution_count": 7,
   "id": "ee679249",
   "metadata": {},
   "outputs": [],
   "source": [
    "# Save the graph to an HTML file\n",
    "net.save_graph(\"MusicLibraryNetworkGraph.html\")"
   ]
  },
  {
   "cell_type": "code",
   "execution_count": 8,
   "id": "158a359e",
   "metadata": {},
   "outputs": [
    {
     "name": "stdout",
     "output_type": "stream",
     "text": [
      "MusicLibraryNetworkGraph.html\n"
     ]
    }
   ],
   "source": [
    "net.toggle_physics(True)\n",
    "net.show('MusicLibraryNetworkGraph.html', notebook=False)"
   ]
  }
 ],
 "metadata": {
  "kernelspec": {
   "display_name": "Python 3 (ipykernel)",
   "language": "python",
   "name": "python3"
  },
  "language_info": {
   "codemirror_mode": {
    "name": "ipython",
    "version": 3
   },
   "file_extension": ".py",
   "mimetype": "text/x-python",
   "name": "python",
   "nbconvert_exporter": "python",
   "pygments_lexer": "ipython3",
   "version": "3.11.5"
  }
 },
 "nbformat": 4,
 "nbformat_minor": 5
}
