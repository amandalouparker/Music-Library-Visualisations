{
 "cells": [
  {
   "cell_type": "markdown",
   "id": "8eee5880",
   "metadata": {},
   "source": [
    "### Get music library data\n",
    "This script gets a list of all the music files in a directory path, along with basic metadata \n",
    "The musicbrainz API is then used to get more complete genre data for each artists "
   ]
  },
  {
   "cell_type": "code",
   "execution_count": 1,
   "id": "f1aab2fd",
   "metadata": {},
   "outputs": [],
   "source": [
    "import pandas as pd\n",
    "import numpy as np\n",
    "import musicbrainzngs as mbz \n",
    "import os\n",
    "from tinytag import TinyTag\n",
    "import csv"
   ]
  },
  {
   "cell_type": "code",
   "execution_count": 2,
   "id": "4b9e6424",
   "metadata": {},
   "outputs": [],
   "source": [
    "mbz.set_useragent('ArtistNetworkGraph', '0.1')"
   ]
  },
  {
   "cell_type": "code",
   "execution_count": 3,
   "id": "a969d84c",
   "metadata": {},
   "outputs": [],
   "source": [
    "df0 = pd.DataFrame()"
   ]
  },
  {
   "cell_type": "code",
   "execution_count": 4,
   "id": "a9daa311",
   "metadata": {},
   "outputs": [],
   "source": [
    "# Create empty lists to store results\n",
    "song_list = []\n",
    "album_list = []\n",
    "artist_list = []\n",
    "genre_list = []\n",
    "year_list = []\n",
    "\n",
    "seperator = '\\\\'\n",
    "path = \"C:\\\\Users\\\\User\\\\Dropbox\\\\00-MUSIC\"\n",
    "\n",
    "for root, dirs, files in os.walk(path):\n",
    "\n",
    "    # select file name\n",
    "    for file in files:\n",
    "        # only get music files\n",
    "        if file.endswith('.mp3' or '.aiff' or '.flac' or '.aac' or '.wav' or '.mp4' or '.m4a'): \n",
    "            \n",
    "            # get genre\n",
    "            tag: TinyTag = TinyTag.get(os.path.join(root, file))\n",
    "            \n",
    "            song_list.append(tag.title)\n",
    "            artist_list.append(tag.artist)\n",
    "            album_list.append(tag.album)\n",
    "            genre_list.append(tag.genre)\n",
    "             "
   ]
  },
  {
   "cell_type": "code",
   "execution_count": 5,
   "id": "a076673a",
   "metadata": {},
   "outputs": [],
   "source": [
    "df0['Song'] = song_list     \n",
    "df0['Album'] = album_list     \n",
    "df0['Artist'] = artist_list  \n",
    "df0['Genre'] = genre_list "
   ]
  },
  {
   "cell_type": "code",
   "execution_count": 6,
   "id": "95f6b121",
   "metadata": {},
   "outputs": [],
   "source": [
    "#df0.to_csv('AllSongsData.csv')"
   ]
  },
  {
   "cell_type": "code",
   "execution_count": 7,
   "id": "a39de270",
   "metadata": {},
   "outputs": [],
   "source": [
    "artist_unique_1 = df0['Artist'].unique().tolist()\n",
    "artist_unique_2 = [item for item in artist_unique_1 if item is not None]"
   ]
  },
  {
   "cell_type": "code",
   "execution_count": 8,
   "id": "5ffcea96",
   "metadata": {},
   "outputs": [],
   "source": [
    "artist_unique = [s.replace(\"\\\\\", \" \") for s in artist_unique_2]"
   ]
  },
  {
   "cell_type": "code",
   "execution_count": 9,
   "id": "a51f3d88",
   "metadata": {},
   "outputs": [],
   "source": [
    "df_a = pd.DataFrame()\n",
    "df_a['Artist'] = artist_unique\n",
    "df_a['Genre'] = \"\"\n",
    "df_a['tag-list'] = \"\"\n",
    "df_a['Artist2'] = \"\""
   ]
  },
  {
   "cell_type": "code",
   "execution_count": 10,
   "id": "39c5ac91",
   "metadata": {},
   "outputs": [
    {
     "name": "stdout",
     "output_type": "stream",
     "text": [
      "ERROR: 4 not found in musicbrainz\n",
      "ERROR: 12 TAGS not found\n",
      "ERROR: 13 TAGS not found\n",
      "ERROR: 36 TAGS not found\n",
      "ERROR: 37 TAGS not found\n",
      "ERROR: 56 not found in musicbrainz\n",
      "ERROR: 59 TAGS not found\n",
      "ERROR: 62 TAGS not found\n",
      "ERROR: 72 TAGS not found\n",
      "ERROR: 73 TAGS not found\n",
      "ERROR: 74 TAGS not found\n",
      "ERROR: 75 TAGS not found\n",
      "ERROR: 76 TAGS not found\n",
      "ERROR: 77 TAGS not found\n",
      "ERROR: 78 TAGS not found\n",
      "ERROR: 80 TAGS not found\n",
      "ERROR: 81 TAGS not found\n",
      "ERROR: 85 TAGS not found\n",
      "ERROR: 88 TAGS not found\n",
      "ERROR: 91 TAGS not found\n",
      "ERROR: 92 TAGS not found\n",
      "ERROR: 94 TAGS not found\n",
      "ERROR: 95 TAGS not found\n",
      "ERROR: 97 TAGS not found\n",
      "ERROR: 98 TAGS not found\n",
      "ERROR: 101 TAGS not found\n",
      "ERROR: 102 TAGS not found\n",
      "ERROR: 112 TAGS not found\n",
      "ERROR: 114 TAGS not found\n",
      "ERROR: 137 TAGS not found\n",
      "ERROR: 138 not found in musicbrainz\n",
      "ERROR: 146 TAGS not found\n",
      "ERROR: 148 TAGS not found\n",
      "ERROR: 159 TAGS not found\n",
      "ERROR: 171 TAGS not found\n",
      "ERROR: 174 TAGS not found\n",
      "ERROR: 187 TAGS not found\n",
      "ERROR: 192 TAGS not found\n",
      "ERROR: 194 TAGS not found\n",
      "ERROR: 195 TAGS not found\n",
      "ERROR: 213 TAGS not found\n",
      "ERROR: 214 TAGS not found\n",
      "ERROR: 215 TAGS not found\n",
      "ERROR: 229 TAGS not found\n",
      "ERROR: 232 TAGS not found\n",
      "ERROR: 238 TAGS not found\n",
      "ERROR: 243 TAGS not found\n",
      "ERROR: 250 not found in musicbrainz\n",
      "ERROR: 252 TAGS not found\n",
      "ERROR: 263 TAGS not found\n",
      "ERROR: 266 TAGS not found\n",
      "ERROR: 295 TAGS not found\n",
      "ERROR: 363 TAGS not found\n",
      "ERROR: 367 TAGS not found\n",
      "ERROR: 372 TAGS not found\n",
      "ERROR: 379 TAGS not found\n"
     ]
    }
   ],
   "source": [
    "for i in range(0,len(df_a['Artist'])):\n",
    "    #print(i)\n",
    "    artist = df_a['Artist'][i]\n",
    "    artist_get = mbz.search_artists(query=artist)['artist-list']       \n",
    "    if bool(artist_get):\n",
    "        \n",
    "        artist_info = artist_get[0] \n",
    "        df_a['Artist2'][i] = artist_info['sort-name'] # to remove special chars\n",
    "        if 'tag-list' in artist_info:\n",
    "            df_a['tag-list'][i] = artist_info['tag-list']\n",
    "        else:\n",
    "            print('ERROR: ' + str(i) + ' TAGS not found')\n",
    "                \n",
    "    else:\n",
    "        print('ERROR: ' + str(i) + ' not found in musicbrainz')"
   ]
  },
  {
   "cell_type": "code",
   "execution_count": 11,
   "id": "7fc0645d",
   "metadata": {},
   "outputs": [],
   "source": [
    "# drop rows that don't have genre data\n",
    "df_a1 = df_a[df_a['tag-list'] != '']"
   ]
  },
  {
   "cell_type": "code",
   "execution_count": 12,
   "id": "e75d29a1",
   "metadata": {},
   "outputs": [],
   "source": [
    "df_a2 = df_a1.reset_index(inplace=False, drop=True)"
   ]
  },
  {
   "cell_type": "code",
   "execution_count": 13,
   "id": "c9ac49ea",
   "metadata": {},
   "outputs": [],
   "source": [
    "df_a2.Artist2.replace({r'[^\\x00-\\x7F]+':''}, regex=True, inplace=True)"
   ]
  },
  {
   "cell_type": "code",
   "execution_count": 14,
   "id": "379a45eb",
   "metadata": {},
   "outputs": [],
   "source": [
    "for i in range(0, len(df_a2)):\n",
    "    #print(i)\n",
    "    k = df_a2['tag-list'][i]\n",
    "    \n",
    "    # sort by genre tag count\n",
    "    temp_df = pd.DataFrame(index=range(len(k)))\n",
    "    temp_df['Count'] = ''\n",
    "    temp_df['Name'] = ''\n",
    "\n",
    "    for t in range(len(k)):   \n",
    "        temp_df['Count'][t] = k[t]['count']\n",
    "        temp_df['Name'][t] = k[t]['name']\n",
    "\n",
    "    temp_sort = temp_df.sort_values(by='Count', ascending=False)    \n",
    "\n",
    "    # create a list from the sorted genre tags\n",
    "    temp_list = temp_sort['Name'].tolist()  \n",
    "    df_a2['Genre'][i] = temp_list\n",
    "\n"
   ]
  },
  {
   "cell_type": "code",
   "execution_count": 15,
   "id": "107691ac",
   "metadata": {},
   "outputs": [],
   "source": [
    "# add song count for node size (represents proportion of music library)\n",
    "df_a2['SongCount'] = ''\n",
    "for i in range(0, len(df_a2['Artist'])):\n",
    "    a = df_a2['Artist'][i]\n",
    "    count = df0['Artist'].value_counts()[a]\n",
    "    df_a2['SongCount'][i] = count\n",
    "    "
   ]
  },
  {
   "cell_type": "code",
   "execution_count": 21,
   "id": "fba75ca8",
   "metadata": {},
   "outputs": [],
   "source": [
    "df2 = df_a2.dropna(subset=['Genre'])\n",
    "df3 = df2.reset_index(drop='true')"
   ]
  },
  {
   "cell_type": "code",
   "execution_count": 22,
   "id": "e8d8359a",
   "metadata": {},
   "outputs": [
    {
     "data": {
      "text/plain": [
       "False"
      ]
     },
     "execution_count": 22,
     "metadata": {},
     "output_type": "execute_result"
    }
   ],
   "source": [
    "df3['Artist'].duplicated().any()"
   ]
  },
  {
   "cell_type": "code",
   "execution_count": 23,
   "id": "2fe11b8b",
   "metadata": {},
   "outputs": [
    {
     "data": {
      "text/plain": [
       "True"
      ]
     },
     "execution_count": 23,
     "metadata": {},
     "output_type": "execute_result"
    }
   ],
   "source": [
    "df3['Artist2'].duplicated().any()  \n",
    "\n",
    "### need to merge different instances of artists name"
   ]
  },
  {
   "cell_type": "code",
   "execution_count": 16,
   "id": "55ab6d6f",
   "metadata": {},
   "outputs": [],
   "source": [
    "df_a2.to_csv('ArtistGenres.csv')"
   ]
  },
  {
   "cell_type": "markdown",
   "id": "44156446",
   "metadata": {},
   "source": [
    "Output is the ArtistGenres.csv file passed to step 2 (Network Graph 2 notebook)"
   ]
  },
  {
   "cell_type": "code",
   "execution_count": 20,
   "id": "0031d59a",
   "metadata": {},
   "outputs": [
    {
     "data": {
      "text/plain": [
       "False"
      ]
     },
     "execution_count": 20,
     "metadata": {},
     "output_type": "execute_result"
    }
   ],
   "source": [
    "df_a2['Artist'].duplicated().any()"
   ]
  }
 ],
 "metadata": {
  "kernelspec": {
   "display_name": "Python 3 (ipykernel)",
   "language": "python",
   "name": "python3"
  },
  "language_info": {
   "codemirror_mode": {
    "name": "ipython",
    "version": 3
   },
   "file_extension": ".py",
   "mimetype": "text/x-python",
   "name": "python",
   "nbconvert_exporter": "python",
   "pygments_lexer": "ipython3",
   "version": "3.11.5"
  }
 },
 "nbformat": 4,
 "nbformat_minor": 5
}
